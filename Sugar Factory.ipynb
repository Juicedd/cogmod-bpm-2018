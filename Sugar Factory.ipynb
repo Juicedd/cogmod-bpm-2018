{
 "cells": [
  {
   "cell_type": "code",
   "execution_count": 1,
   "metadata": {},
   "outputs": [],
   "source": [
    "import random"
   ]
  },
  {
   "cell_type": "markdown",
   "metadata": {},
   "source": [
    "### Function that returns output given production and number of workers"
   ]
  },
  {
   "cell_type": "code",
   "execution_count": 2,
   "metadata": {},
   "outputs": [],
   "source": [
    "def sugar(w):\n",
    "    new = 2 * w - production + random.randint(-1, 1)\n",
    "    if new < 1:\n",
    "        new = 1\n",
    "    elif new > 12:\n",
    "        new = 12\n",
    "    return new"
   ]
  },
  {
   "cell_type": "markdown",
   "metadata": {},
   "source": [
    "### Function that proceeds to the next day"
   ]
  },
  {
   "cell_type": "code",
   "execution_count": 3,
   "metadata": {},
   "outputs": [],
   "source": [
    "def select(w):\n",
    "    global production\n",
    "    global day\n",
    "    day += 1\n",
    "    print(\"*** Day %d\" % day)\n",
    "    print(\"Yesterday the production was %d\" % production)\n",
    "    print(\"Today you employ %d workers\" % w)\n",
    "    production = sugar(w)\n",
    "    print(\"Today the production is %d\" % production)"
   ]
  },
  {
   "cell_type": "markdown",
   "metadata": {},
   "source": [
    "### Start the game"
   ]
  },
  {
   "cell_type": "code",
   "execution_count": 4,
   "metadata": {},
   "outputs": [],
   "source": [
    "production = 5\n",
    "day = 0"
   ]
  },
  {
   "cell_type": "code",
   "execution_count": 5,
   "metadata": {},
   "outputs": [
    {
     "name": "stdout",
     "output_type": "stream",
     "text": [
      "*** Day 1\n",
      "Yesterday the production was 5\n",
      "Today you employ 7 workers\n",
      "Today the production is 10\n"
     ]
    }
   ],
   "source": [
    "select(7)"
   ]
  },
  {
   "cell_type": "code",
   "execution_count": 6,
   "metadata": {},
   "outputs": [
    {
     "name": "stdout",
     "output_type": "stream",
     "text": [
      "*** Day 2\n",
      "Yesterday the production was 10\n",
      "Today you employ 6 workers\n",
      "Today the production is 3\n"
     ]
    }
   ],
   "source": [
    "select(6)"
   ]
  },
  {
   "cell_type": "code",
   "execution_count": 7,
   "metadata": {},
   "outputs": [
    {
     "name": "stdout",
     "output_type": "stream",
     "text": [
      "*** Day 3\n",
      "Yesterday the production was 3\n",
      "Today you employ 5 workers\n",
      "Today the production is 7\n"
     ]
    }
   ],
   "source": [
    "select(5)"
   ]
  },
  {
   "cell_type": "code",
   "execution_count": 8,
   "metadata": {},
   "outputs": [
    {
     "name": "stdout",
     "output_type": "stream",
     "text": [
      "*** Day 4\n",
      "Yesterday the production was 7\n",
      "Today you employ 6 workers\n",
      "Today the production is 5\n"
     ]
    }
   ],
   "source": [
    "select(6)"
   ]
  },
  {
   "cell_type": "markdown",
   "metadata": {},
   "source": [
    "### Now we want to create a model that performs the Sugar Factory task"
   ]
  },
  {
   "cell_type": "code",
   "execution_count": null,
   "metadata": {},
   "outputs": [],
   "source": [
    "from model import Model\n",
    "from chunk import Chunk\n",
    "\n",
    "m = Model()\n",
    "\n"
   ]
  }
 ],
 "metadata": {
  "kernelspec": {
   "display_name": "Python 3",
   "language": "python",
   "name": "python3"
  },
  "language_info": {
   "codemirror_mode": {
    "name": "ipython",
    "version": 3
   },
   "file_extension": ".py",
   "mimetype": "text/x-python",
   "name": "python",
   "nbconvert_exporter": "python",
   "pygments_lexer": "ipython3",
   "version": "3.6.4"
  }
 },
 "nbformat": 4,
 "nbformat_minor": 2
}
