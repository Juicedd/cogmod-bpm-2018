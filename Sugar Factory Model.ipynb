{
 "cells": [
  {
   "cell_type": "markdown",
   "metadata": {},
   "source": [
    "## Model of the Sugar Factory Experiment"
   ]
  },
  {
   "cell_type": "code",
   "execution_count": 1,
   "metadata": {},
   "outputs": [],
   "source": [
    "from model import Model\n",
    "from dmchunk import Chunk\n",
    "import numpy as np\n",
    "import matplotlib.pyplot as plt"
   ]
  },
  {
   "cell_type": "markdown",
   "metadata": {},
   "source": [
    "First we define a function that determines the output of the factory"
   ]
  },
  {
   "cell_type": "code",
   "execution_count": 2,
   "metadata": {},
   "outputs": [],
   "source": [
    "def factory_output(w, prod):\n",
    "    new_production = 2 * w - prod + np.random.randint(-1,1)\n",
    "    if new_production > 12:\n",
    "        new_production = 12\n",
    "    elif new_production < 1:\n",
    "        new_production = 1\n",
    "    return new_production"
   ]
  },
  {
   "cell_type": "markdown",
   "metadata": {},
   "source": [
    "Initialize some global variables that keep track of the state of the system"
   ]
  },
  {
   "cell_type": "code",
   "execution_count": 3,
   "metadata": {},
   "outputs": [],
   "source": [
    "day = 1\n",
    "production = 5\n",
    "workers = np.random.randint(1,10)\n",
    "target = 9"
   ]
  },
  {
   "cell_type": "markdown",
   "metadata": {},
   "source": [
    "Initialize the model and set the retrieval threshold to a lower value (default = -1.0). Different values for rt will impact the outcome"
   ]
  },
  {
   "cell_type": "code",
   "execution_count": 4,
   "metadata": {},
   "outputs": [],
   "source": [
    "m = Model()\n",
    "m.rt = -2.0"
   ]
  },
  {
   "cell_type": "markdown",
   "metadata": {},
   "source": [
    "If the model fails to retrieve an experience, we need a backup default strategy. Here we just pick a random number of workers. Alternatively, we can try different default strategies"
   ]
  },
  {
   "cell_type": "code",
   "execution_count": 5,
   "metadata": {},
   "outputs": [],
   "source": [
    "def default_strategy(workers, production):\n",
    "    return np.random.randint(1,10)"
   ]
  },
  {
   "cell_type": "markdown",
   "metadata": {},
   "source": [
    "Run the model for a single day. It tries to retrieve an example from declarative memory. If this is successful, it follows the example. Otherwise it will carry out the default strategy. It then calculates the new production, and stores this as a chunk in memory."
   ]
  },
  {
   "cell_type": "code",
   "execution_count": 6,
   "metadata": {},
   "outputs": [],
   "source": [
    "def do_one_day(trace = True):\n",
    "    global day\n",
    "    global production\n",
    "    global workers\n",
    "    query = Chunk(name = \"query\", slots = {\"yesterday\" : production, \"today\" : target  })\n",
    "    result, latency = m.retrieve_partial(query, trace = trace)\n",
    "    if trace:\n",
    "        print(\"Result of the retrieval is:\", result)\n",
    "    if result == None:\n",
    "        workers = default_strategy(workers, production)\n",
    "    else:\n",
    "        workers = result.slots[\"workers\"]\n",
    "        m.add_encounter(result)\n",
    "    m.time += latency\n",
    "    new_production = factory_output(workers, production)\n",
    "    new_chunk = Chunk(name = \"experience\" + str(day), slots ={\"yesterday\" : production, \"workers\":workers, \"today\" : new_production})\n",
    "    m.add_encounter(new_chunk)\n",
    "    production = new_production\n",
    "    day += 1\n",
    "    m.time += 5.0\n",
    "    "
   ]
  },
  {
   "cell_type": "markdown",
   "metadata": {},
   "source": [
    "Run a single subject for 80 trials, and return the accuracies."
   ]
  },
  {
   "cell_type": "code",
   "execution_count": 7,
   "metadata": {},
   "outputs": [],
   "source": [
    "def run_subject():\n",
    "    global production\n",
    "    global day\n",
    "    global workers\n",
    "    global m\n",
    "    day = 1\n",
    "    production = 5\n",
    "    workers = np.random.randint(1,10)\n",
    "    m = Model()\n",
    "    m.rt = -2.0\n",
    "    results = []\n",
    "    for i in range(80):\n",
    "        do_one_day(trace = False)\n",
    "        if production >= 8 and production <= 10:\n",
    "            results.append(1)\n",
    "        else:\n",
    "            results.append(0)\n",
    "    return results"
   ]
  },
  {
   "cell_type": "markdown",
   "metadata": {},
   "source": [
    "Run the experiment for n subjects, and plot the results"
   ]
  },
  {
   "cell_type": "code",
   "execution_count": 8,
   "metadata": {},
   "outputs": [],
   "source": [
    "def run_experiment(n):\n",
    "    totals = []\n",
    "    for i in range(n):\n",
    "        result = run_subject()\n",
    "        if totals == []:\n",
    "            totals = result\n",
    "        else:\n",
    "            totals = [x + y for x,y in zip(totals, result)]\n",
    "    totals = [ x /n for x in totals]\n",
    "    plt.plot(range(80), totals)"
   ]
  },
  {
   "cell_type": "code",
   "execution_count": 9,
   "metadata": {},
   "outputs": [
    {
     "data": {
      "image/png": "[encoded data removed]",
      "text/plain": [
       "<matplotlib.figure.Figure at 0x7f7f583f20b8>"
      ]
     },
     "metadata": {},
     "output_type": "display_data"
    }
   ],
   "source": [
    "run_experiment(100)"
   ]
  }
 ],
 "metadata": {
  "kernelspec": {
   "display_name": "Python 3",
   "language": "python",
   "name": "python3"
  },
  "language_info": {
   "codemirror_mode": {
    "name": "ipython",
    "version": 3
   },
   "file_extension": ".py",
   "mimetype": "text/x-python",
   "name": "python",
   "nbconvert_exporter": "python",
   "pygments_lexer": "ipython3",
   "version": "3.6.4"
  }
 },
 "nbformat": 4,
 "nbformat_minor": 2
}
