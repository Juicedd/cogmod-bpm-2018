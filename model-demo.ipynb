{
 "cells": [
  {
   "cell_type": "markdown",
   "metadata": {},
   "source": [
    "# Model demo"
   ]
  },
  {
   "cell_type": "code",
   "execution_count": 1,
   "metadata": {},
   "outputs": [],
   "source": [
    "from model import Model\n",
    "from chunk import Chunk\n",
    "import numpy as np\n",
    "import matplotlib.pyplot as plt"
   ]
  },
  {
   "cell_type": "markdown",
   "metadata": {},
   "source": [
    "## Creating a model"
   ]
  },
  {
   "cell_type": "code",
   "execution_count": 2,
   "metadata": {},
   "outputs": [],
   "source": [
    "m = Model()"
   ]
  },
  {
   "cell_type": "markdown",
   "metadata": {},
   "source": [
    "We can use `print(m)` to print an overview of the model:"
   ]
  },
  {
   "cell_type": "code",
   "execution_count": 3,
   "metadata": {},
   "outputs": [
    {
     "name": "stdout",
     "output_type": "stream",
     "text": [
      "\n",
      "=== Model ===\n",
      "Time: 0 s \n",
      "Goal:None\n",
      "DM:\n",
      "\n"
     ]
    }
   ],
   "source": [
    "print(m)"
   ]
  },
  {
   "cell_type": "markdown",
   "metadata": {},
   "source": [
    "## Setting a goal"
   ]
  },
  {
   "cell_type": "markdown",
   "metadata": {},
   "source": [
    "Add a chunk to the model's goal buffer. We can specify a chunk name and any number of slots (as a dictionary). Here we first create a chunk with the name \"goal-chunk\" that has two slots."
   ]
  },
  {
   "cell_type": "code",
   "execution_count": 4,
   "metadata": {},
   "outputs": [],
   "source": [
    "g = Chunk(name = \"goal-chunk\", slots = {\"goal\": \"count\", \"current\": \"two\"})\n",
    "m.goal = g"
   ]
  },
  {
   "cell_type": "markdown",
   "metadata": {},
   "source": [
    "Check that the goal is added to the model:"
   ]
  },
  {
   "cell_type": "code",
   "execution_count": 5,
   "metadata": {},
   "outputs": [
    {
     "name": "stdout",
     "output_type": "stream",
     "text": [
      "\n",
      "=== Model ===\n",
      "Time: 0 s \n",
      "Goal:Chunk goal-chunk\n",
      "Slots: {'goal': 'count', 'current': 'two'}\n",
      "Encounters: []\n",
      "Fan: 0\n",
      "\n",
      "DM:\n",
      "\n"
     ]
    }
   ],
   "source": [
    "print(m)"
   ]
  },
  {
   "cell_type": "markdown",
   "metadata": {},
   "source": [
    "## Adding chunks to memory"
   ]
  },
  {
   "cell_type": "markdown",
   "metadata": {},
   "source": [
    "Here we add some chunks to the model's declarative memory (at t = 0)."
   ]
  },
  {
   "cell_type": "code",
   "execution_count": 6,
   "metadata": {},
   "outputs": [],
   "source": [
    "c1 = Chunk(name = \"c1\", slots = {\"type\": \"numbers\", \"val1\": 1, \"val2\": 2, \"word\": \"two\"})\n",
    "c2 = Chunk(name = \"c2\", slots = {\"type\": \"numbers\", \"val1\": 2, \"val2\": 3, \"word\": \"three\"})\n",
    "\n",
    "m.add_encounter(c1)\n",
    "m.add_encounter(c2)"
   ]
  },
  {
   "cell_type": "markdown",
   "metadata": {},
   "source": [
    "Add some more encounters of these chunks."
   ]
  },
  {
   "cell_type": "code",
   "execution_count": 7,
   "metadata": {},
   "outputs": [],
   "source": [
    "m.time += 15 # Advance the model time by 15 seconds\n",
    "m.add_encounter(c2)\n",
    "\n",
    "m.time += 20\n",
    "m.add_encounter(c1)\n",
    "\n",
    "m.time += 5\n",
    "m.add_encounter(c2)"
   ]
  },
  {
   "cell_type": "markdown",
   "metadata": {},
   "source": [
    "Let's see what the model looks like now:"
   ]
  },
  {
   "cell_type": "code",
   "execution_count": 8,
   "metadata": {},
   "outputs": [
    {
     "name": "stdout",
     "output_type": "stream",
     "text": [
      "\n",
      "=== Model ===\n",
      "Time: 40 s \n",
      "Goal:Chunk goal-chunk\n",
      "Slots: {'goal': 'count', 'current': 'two'}\n",
      "Encounters: []\n",
      "Fan: 0\n",
      "\n",
      "DM:Chunk c1\n",
      "Slots: {'type': 'numbers', 'val1': 1, 'val2': 2, 'word': 'two'}\n",
      "Encounters: [0, 35]\n",
      "Fan: 0\n",
      "\n",
      "Chunk numbers\n",
      "Slots: {}\n",
      "Encounters: [0, 15, 35, 40]\n",
      "Fan: 2\n",
      "\n",
      "Chunk 1\n",
      "Slots: {}\n",
      "Encounters: [0, 35]\n",
      "Fan: 1\n",
      "\n",
      "Chunk 2\n",
      "Slots: {}\n",
      "Encounters: [0, 15, 35, 40]\n",
      "Fan: 2\n",
      "\n",
      "Chunk two\n",
      "Slots: {}\n",
      "Encounters: [0, 35]\n",
      "Fan: 1\n",
      "\n",
      "Chunk c2\n",
      "Slots: {'type': 'numbers', 'val1': 2, 'val2': 3, 'word': 'three'}\n",
      "Encounters: [0, 15, 40]\n",
      "Fan: 0\n",
      "\n",
      "Chunk 3\n",
      "Slots: {}\n",
      "Encounters: [0, 15, 40]\n",
      "Fan: 1\n",
      "\n",
      "Chunk three\n",
      "Slots: {}\n",
      "Encounters: [0, 15, 40]\n",
      "Fan: 1\n",
      "\n",
      "\n"
     ]
    }
   ],
   "source": [
    "print(m)"
   ]
  },
  {
   "cell_type": "markdown",
   "metadata": {},
   "source": [
    "Notice that, even though we've only added two chunks to the model's DM, it contains more chunks. These other chunks are the \"singleton\" chunks that our own chunks refer to in each of their slots."
   ]
  },
  {
   "cell_type": "markdown",
   "metadata": {},
   "source": [
    "## Activation"
   ]
  },
  {
   "cell_type": "markdown",
   "metadata": {},
   "source": [
    "We can get the activation of a chunk at the current time using the `get_activation()` method."
   ]
  },
  {
   "cell_type": "code",
   "execution_count": 9,
   "metadata": {},
   "outputs": [
    {
     "name": "stdout",
     "output_type": "stream",
     "text": [
      "c1: 0.498014\n",
      "c2: -1.026904\n"
     ]
    }
   ],
   "source": [
    "print(\"c1: %f\" % m.get_activation(c1))\n",
    "print(\"c2: %f\" % m.get_activation(c2))"
   ]
  },
  {
   "cell_type": "markdown",
   "metadata": {},
   "source": [
    "### Spreading activation from goal\n",
    "\n",
    "The chunk c1 has a slot value in common with the chunk in the goal buffer, which means that there is spreading activation from the goal to this chunk (but not to c2, which does not share any slot values with the goal chunk). We can confirm this by printing the spreading activation on its own:"
   ]
  },
  {
   "cell_type": "code",
   "execution_count": 10,
   "metadata": {},
   "outputs": [
    {
     "name": "stdout",
     "output_type": "stream",
     "text": [
      "c1: 1.000000\n",
      "c2: 0.000000\n"
     ]
    }
   ],
   "source": [
    "print(\"c1: %f\" % m.get_spreading_activation_from_goal(c1))\n",
    "print(\"c2: %f\" % m.get_spreading_activation_from_goal(c2))"
   ]
  },
  {
   "cell_type": "markdown",
   "metadata": {},
   "source": [
    "Right now, the model only implements goal activation spreading. This means that the standard ACT-R spreading equation is simplified a bit. The spreading activation from the goal to chunk $i$ is\n",
    "\n",
    "$S_i = \\sum_{j}w_{j}s_{ji}$\n",
    "\n",
    "where $j$ is the number of sources (i.e., slots) in the goal buffer, $w_j$ is the goal activation (parameter `ga`) divided by $j$, and $s_{ji}$ is the strength of association from the goal slot $j$ to chunk $i$, which depends on the maximum spreading association (`mas`) parameter and the fan of the slots in chunk $i$."
   ]
  },
  {
   "cell_type": "markdown",
   "metadata": {},
   "source": [
    "### Plotting\n",
    "\n",
    "Plot the activation of c2 in the first minute:"
   ]
  },
  {
   "cell_type": "code",
   "execution_count": 11,
   "metadata": {},
   "outputs": [
    {
     "data": {
      "text/plain": [
       "[<matplotlib.lines.Line2D at 0x7fecc5f80eb8>]"
      ]
     },
     "execution_count": 11,
     "metadata": {},
     "output_type": "execute_result"
    },
    {
     "data": {
      "image/png": "[encoded data removed]",
      "text/plain": [
       "<Figure size 432x288 with 1 Axes>"
      ]
     },
     "metadata": {},
     "output_type": "display_data"
    }
   ],
   "source": [
    "x = np.linspace(start = 0, stop = 60, num = 1000)\n",
    "bl = []\n",
    "for i in x:\n",
    "    m.time = i + 0.001\n",
    "    bl.append(m.get_activation(c2))\n",
    "    \n",
    "plt.plot(x, bl)"
   ]
  },
  {
   "cell_type": "markdown",
   "metadata": {},
   "source": [
    "Plot the retrieval latency (directly related to activation) of c2:"
   ]
  },
  {
   "cell_type": "code",
   "execution_count": 12,
   "metadata": {},
   "outputs": [
    {
     "data": {
      "text/plain": [
       "[<matplotlib.lines.Line2D at 0x7fecc5ea20b8>]"
      ]
     },
     "execution_count": 12,
     "metadata": {},
     "output_type": "execute_result"
    },
    {
     "data": {
      "image/png": "[encoded data removed]",
      "text/plain": [
       "<Figure size 432x288 with 1 Axes>"
      ]
     },
     "metadata": {},
     "output_type": "display_data"
    }
   ],
   "source": [
    "x = np.linspace(start = 0, stop = 60, num = 1000)\n",
    "lat = []\n",
    "for i in x:\n",
    "    m.time = i + 0.001\n",
    "    lat.append(m.get_latency(c2))\n",
    "    \n",
    "plt.plot(x, lat)"
   ]
  },
  {
   "cell_type": "markdown",
   "metadata": {},
   "source": [
    "## Retrieving a chunk from memory\n",
    "We can retrieve a chunk from memory with a retrieval pattern. We use a Chunk as a representation for that pattern:"
   ]
  },
  {
   "cell_type": "code",
   "execution_count": 13,
   "metadata": {},
   "outputs": [],
   "source": [
    "pattern = Chunk(name = \"retrieve\", slots = {\"type\": \"numbers\", \"val1\" : 1})"
   ]
  },
  {
   "cell_type": "code",
   "execution_count": 14,
   "metadata": {},
   "outputs": [
    {
     "name": "stdout",
     "output_type": "stream",
     "text": [
      "Chunk c1\n",
      "Slots: {'type': 'numbers', 'val1': 1, 'val2': 2, 'word': 'two'}\n",
      "Encounters: [0, 35]\n",
      "Fan: 0\n",
      "\n",
      "1.1178539520137154\n"
     ]
    }
   ],
   "source": [
    "chunk, latency = m.retrieve(pattern)\n",
    "print(chunk)\n",
    "print(latency)"
   ]
  },
  {
   "cell_type": "markdown",
   "metadata": {},
   "source": [
    "Retrieval failure example:"
   ]
  },
  {
   "cell_type": "code",
   "execution_count": 15,
   "metadata": {},
   "outputs": [
    {
     "name": "stdout",
     "output_type": "stream",
     "text": [
      "None\n",
      "2.718281828459045\n"
     ]
    }
   ],
   "source": [
    "pattern = Chunk(name = \"test\", slots = {\"type\" : \"letters\"})\n",
    "chunk, latency = m.retrieve(pattern)\n",
    "print(chunk)\n",
    "print(latency)"
   ]
  },
  {
   "cell_type": "markdown",
   "metadata": {},
   "source": [
    "## Blending\n",
    "\n",
    "Aside from retrieving a sigle chunk, we can also retrieve a *blended trace* (see Taatgen & van Rijn, 2011). This works in much the same way as a normal retrieval, except that we also have to specify the slot for which we want the blended trace.\n",
    "\n",
    "Blending only works with numerical slot values, so let's make a few new chunks representing some observations of game scores, and add them to the model's DM."
   ]
  },
  {
   "cell_type": "code",
   "execution_count": 16,
   "metadata": {},
   "outputs": [],
   "source": [
    "d1 = Chunk(name = \"score1\", slots = {\"type\": \"gamescore\", \"score\": 10})\n",
    "m.add_encounter(d1)\n",
    "\n",
    "m.time += 1\n",
    "\n",
    "d2 = Chunk(name = \"score2\", slots = {\"type\": \"gamescore\", \"score\": 15})\n",
    "m.add_encounter(d2)\n",
    "\n",
    "m.time += 1\n",
    "\n",
    "d3 = Chunk(name = \"score3\", slots = {\"type\": \"gamescore\", \"score\": 20})\n",
    "m.add_encounter(d3)\n",
    "\n",
    "m.time += 1"
   ]
  },
  {
   "cell_type": "markdown",
   "metadata": {},
   "source": [
    "We can now retrieve a blended trace of the game score. (Note that we specify a pattern in the same way as before, but that we also tell the model that we want a blended trace of the `score` slot specifically.)"
   ]
  },
  {
   "cell_type": "code",
   "execution_count": 17,
   "metadata": {},
   "outputs": [
    {
     "name": "stdout",
     "output_type": "stream",
     "text": [
      "18.7707704696836\n"
     ]
    }
   ],
   "source": [
    "blend_pattern = Chunk(name = \"blended-test\", slots = {\"type\": \"gamescore\"})\n",
    "\n",
    "print(m.retrieve_blended_trace(blend_pattern, \"score\"))"
   ]
  },
  {
   "cell_type": "markdown",
   "metadata": {},
   "source": [
    "Examples of invalid requests for a blended retrieval:"
   ]
  },
  {
   "cell_type": "code",
   "execution_count": 18,
   "metadata": {},
   "outputs": [
    {
     "name": "stdout",
     "output_type": "stream",
     "text": [
      "None\n",
      "None\n"
     ]
    }
   ],
   "source": [
    "# Slot does not exist\n",
    "print(m.retrieve_blended_trace(blend_pattern, \"non-existstent-slot\"))\n",
    "\n",
    "# Pattern does not match any chunks in DM\n",
    "blend_pattern = Chunk(name = \"blended-test\", slots = {\"type\": \"letters\"})\n",
    "print(m.retrieve_blended_trace(blend_pattern, \"score\"))"
   ]
  }
 ],
 "metadata": {
  "kernelspec": {
   "display_name": "Python 3",
   "language": "python",
   "name": "python3"
  },
  "language_info": {
   "codemirror_mode": {
    "name": "ipython",
    "version": 3
   },
   "file_extension": ".py",
   "mimetype": "text/x-python",
   "name": "python",
   "nbconvert_exporter": "python",
   "pygments_lexer": "ipython3",
   "version": "3.6.6"
  }
 },
 "nbformat": 4,
 "nbformat_minor": 2
}
